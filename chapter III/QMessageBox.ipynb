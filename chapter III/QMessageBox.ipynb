{
 "cells": [
  {
   "cell_type": "code",
   "execution_count": 1,
   "metadata": {},
   "outputs": [
    {
     "name": "stdout",
     "output_type": "stream",
     "text": [
      "Closing application.\n"
     ]
    },
    {
     "ename": "SystemExit",
     "evalue": "0",
     "output_type": "error",
     "traceback": [
      "An exception has occurred, use %tb to see the full traceback.\n",
      "\u001b[0;31mSystemExit\u001b[0m\u001b[0;31m:\u001b[0m 0\n"
     ]
    },
    {
     "name": "stderr",
     "output_type": "stream",
     "text": [
      "/Users/macbookair/opt/anaconda3/envs/pyqt6/lib/python3.10/site-packages/IPython/core/interactiveshell.py:3406: UserWarning: To exit: use 'exit', 'quit', or Ctrl-D.\n",
      "  warn(\"To exit: use 'exit', 'quit', or Ctrl-D.\", stacklevel=1)\n"
     ]
    }
   ],
   "source": [
    "# Import necessary modules\n",
    "from curses import window\n",
    "import sys\n",
    "from PyQt6.QtWidgets import (QApplication, QLabel,QPushButton,\n",
    "    QMessageBox,QLineEdit,QWidget)\n",
    "from PyQt6.QtGui import QFont\n",
    "from PyQt6.QtCore import Qt\n",
    "\n",
    "class MainWindow(QWidget):\n",
    "\n",
    "    def __init__(self):\n",
    "        super().__init__()\n",
    "        self.initlizeUI()\n",
    "    \n",
    "    def initlizeUI(self):\n",
    "\n",
    "        \"\"\"  Set up the application's GUI   \"\"\"\n",
    "        self.setGeometry(100,100,340,140)\n",
    "        self.setWindowTitle(\"QMessageBox Example\")\n",
    "        self.setUpMainWindow()\n",
    "        self.show()\n",
    "\n",
    "    def setUpMainWindow(self):\n",
    "        \"\"\"Create and arrange widgets in the main window.\"\"\"\n",
    "\n",
    "        catalogue_label = QLabel(\"Author Catalogue\",self)\n",
    "        catalogue_label.move(100, 10)\n",
    "        catalogue_label.setFont(QFont(\"Arial\", 18))\n",
    "        catalogue_label.setAlignment(Qt.AlignmentFlag.AlignCenter)\n",
    "\n",
    "        search_label = QLabel(\n",
    "            \"search the index for an author:\",self)\n",
    "        search_label.move(20,40)\n",
    "\n",
    "        author_label = QLabel(\"name:\",self)\n",
    "        author_label.move(20, 74)\n",
    "\n",
    "        self.author_edit = QLineEdit(self)\n",
    "        self.author_edit.move(70,70)\n",
    "        self.author_edit.resize(240,24)\n",
    "        self.author_edit.setPlaceholderText(\n",
    "            \"Enter names as: First Last\"\n",
    "        )\n",
    "\n",
    "        # Create the search QPushButton\n",
    "        search_button = QPushButton(\"Search\",self)\n",
    "        search_button.move(140,100)\n",
    "        search_button.clicked.connect(self.searchAuthors)\n",
    "\n",
    "    def searchAuthors(self):\n",
    "\n",
    "        \"\"\"Search through a catalogue of names.\n",
    "        If a name is found, display the Author Found dialog.\n",
    "        Otherwise, display Author Not Found dialog.\"\"\"\n",
    "\n",
    "        file = \"files/authors.txt\"\n",
    "\n",
    "        try:\n",
    "\n",
    "            with open(file,'r') as f:\n",
    "                authors = [line.rstrip(\"\\n\") for line in f]\n",
    "            # Check for name in authors list\n",
    "\n",
    "            if self.author_edit.text() in authors:\n",
    "                QMessageBox.information(self,\"Author Found\",\n",
    "                    \"Author found in catalogue!\",\n",
    "                    QMessageBox.StandardButton.Ok\n",
    "                )\n",
    "\n",
    "            else:\n",
    "                answer = QMessageBox.question(self,\n",
    "                \"Author Not Found\",\n",
    "                \"\"\"<p>Author not found in catalogue.</p>\n",
    "                <p>Do you wish to continue?</p>\"\"\",\n",
    "                QMessageBox.StandardButton.Yes | \\\n",
    "                QMessageBox.StandardButton.No,\n",
    "                QMessageBox.StandardButton.No\n",
    "                )\n",
    "\n",
    "                if answer == QMessageBox.StandardButton.No:\n",
    "                    print(\"Closing application.\")\n",
    "                    self.close()\n",
    "        except FileNotFoundError as error:\n",
    "\n",
    "            QMessageBox.warning(self,\n",
    "            \"Error\",\n",
    "            f\"\"\"<p>File not found.</p>\n",
    "            <p>Error: {error}</p>\n",
    "            Closing application.\"\"\",\n",
    "            QMessageBox.StandardButton.Ok\n",
    "            )\n",
    "        #self.close()\n",
    "\n",
    "\n",
    "if __name__ == \"__main__\":\n",
    "\n",
    "    app = QApplication([])\n",
    "    window = MainWindow()\n",
    "    sys.exit(app.exec())"
   ]
  },
  {
   "cell_type": "markdown",
   "metadata": {},
   "source": [
    "To create a QMessageBox dialog from one of the predefined types, first, create a QMessageBox object and call one of the static functions, in this case, information. Next, pass the parent widget. Then set the dialog's title, \"Author Found\", and the text that will appear inside the dialog that provides feedback, possibly with information about actions a user could take. This is followed by the types of standard buttons that will appear in the dialog. Multiple buttons can be used and separated with a pipe key, **|. Standard buttons include Open, Save, Cancel, Reset, Yes, and No**. The Appendix lists other QMessageBox. StandardButton types.\n"
   ]
  }
 ],
 "metadata": {
  "kernelspec": {
   "display_name": "Python 3.10.4 ('pyqt6')",
   "language": "python",
   "name": "python3"
  },
  "language_info": {
   "codemirror_mode": {
    "name": "ipython",
    "version": 3
   },
   "file_extension": ".py",
   "mimetype": "text/x-python",
   "name": "python",
   "nbconvert_exporter": "python",
   "pygments_lexer": "ipython3",
   "version": "3.10.4"
  },
  "orig_nbformat": 4,
  "vscode": {
   "interpreter": {
    "hash": "a124bb1da070313ffb52e2a22682341b7f0bd8485dff237a1f49f68cce3ddb1a"
   }
  }
 },
 "nbformat": 4,
 "nbformat_minor": 2
}
