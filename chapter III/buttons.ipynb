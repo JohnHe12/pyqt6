{
 "cells": [
  {
   "cell_type": "code",
   "execution_count": 2,
   "metadata": {},
   "outputs": [],
   "source": [
    "# import necessary modules\n",
    "\n",
    "import sys \n",
    "from PyQt6.QtWidgets import QLabel, QApplication,QWidget,QPushButton\n",
    "from PyQt6.QtCore import   Qt\n",
    "\n",
    "#The QtCore module contains a bunch of non-GUI- related classes. \n",
    "# The Qt class refers to the Qt Namespace, \n",
    "# which contains many identifiers used for setting the properties of widgets and other classes."
   ]
  },
  {
   "cell_type": "code",
   "execution_count": 3,
   "metadata": {},
   "outputs": [
    {
     "ename": "AttributeError",
     "evalue": "'MainWindow' object has no attribute 'times_pressed'",
     "output_type": "error",
     "traceback": [
      "\u001b[0;31m---------------------------------------------------------------------------\u001b[0m",
      "\u001b[0;31mAttributeError\u001b[0m                            Traceback (most recent call last)",
      "\u001b[1;32m/Users/macbookair/Desktop/编程/pyqt6/chapter III/buttons.ipynb Cell 2\u001b[0m in \u001b[0;36mMainWindow.buttonClicked\u001b[0;34m(self)\u001b[0m\n\u001b[1;32m     <a href='vscode-notebook-cell:/Users/macbookair/Desktop/%E7%BC%96%E7%A8%8B/pyqt6/chapter%20III/buttons.ipynb#W1sZmlsZQ%3D%3D?line=41'>42</a>\u001b[0m \u001b[39mdef\u001b[39;00m \u001b[39mbuttonClicked\u001b[39m(\u001b[39mself\u001b[39m):\n\u001b[1;32m     <a href='vscode-notebook-cell:/Users/macbookair/Desktop/%E7%BC%96%E7%A8%8B/pyqt6/chapter%20III/buttons.ipynb#W1sZmlsZQ%3D%3D?line=43'>44</a>\u001b[0m     \u001b[39m\"\"\"\u001b[39;00m\n\u001b[1;32m     <a href='vscode-notebook-cell:/Users/macbookair/Desktop/%E7%BC%96%E7%A8%8B/pyqt6/chapter%20III/buttons.ipynb#W1sZmlsZQ%3D%3D?line=44'>45</a>\u001b[0m \u001b[39m    Handle when the button is clicked.\u001b[39;00m\n\u001b[1;32m     <a href='vscode-notebook-cell:/Users/macbookair/Desktop/%E7%BC%96%E7%A8%8B/pyqt6/chapter%20III/buttons.ipynb#W1sZmlsZQ%3D%3D?line=45'>46</a>\u001b[0m \u001b[39m    \u001b[39;00m\n\u001b[0;32m   (...)\u001b[0m\n\u001b[1;32m     <a href='vscode-notebook-cell:/Users/macbookair/Desktop/%E7%BC%96%E7%A8%8B/pyqt6/chapter%20III/buttons.ipynb#W1sZmlsZQ%3D%3D?line=51'>52</a>\u001b[0m \u001b[39m    \u001b[39;00m\n\u001b[1;32m     <a href='vscode-notebook-cell:/Users/macbookair/Desktop/%E7%BC%96%E7%A8%8B/pyqt6/chapter%20III/buttons.ipynb#W1sZmlsZQ%3D%3D?line=52'>53</a>\u001b[0m \u001b[39m    \"\"\"\u001b[39;00m\n\u001b[0;32m---> <a href='vscode-notebook-cell:/Users/macbookair/Desktop/%E7%BC%96%E7%A8%8B/pyqt6/chapter%20III/buttons.ipynb#W1sZmlsZQ%3D%3D?line=54'>55</a>\u001b[0m     \u001b[39mself\u001b[39m\u001b[39m.\u001b[39mtimes_pressed \u001b[39m+\u001b[39m\u001b[39m=\u001b[39m \u001b[39m1\u001b[39m\n\u001b[1;32m     <a href='vscode-notebook-cell:/Users/macbookair/Desktop/%E7%BC%96%E7%A8%8B/pyqt6/chapter%20III/buttons.ipynb#W1sZmlsZQ%3D%3D?line=55'>56</a>\u001b[0m     \u001b[39mif\u001b[39;00m \u001b[39mself\u001b[39m\u001b[39m.\u001b[39mtimes_pressed \u001b[39m==\u001b[39m \u001b[39m1\u001b[39m:\n\u001b[1;32m     <a href='vscode-notebook-cell:/Users/macbookair/Desktop/%E7%BC%96%E7%A8%8B/pyqt6/chapter%20III/buttons.ipynb#W1sZmlsZQ%3D%3D?line=56'>57</a>\u001b[0m         \u001b[39mself\u001b[39m\u001b[39m.\u001b[39mname_label\u001b[39m.\u001b[39msetText(\u001b[39m\"\u001b[39m\u001b[39mWhy\u001b[39m\u001b[39m'\u001b[39m\u001b[39md you press me?\u001b[39m\u001b[39m\"\u001b[39m)\n",
      "\u001b[0;31mAttributeError\u001b[0m: 'MainWindow' object has no attribute 'times_pressed'"
     ]
    },
    {
     "ename": "SystemExit",
     "evalue": "0",
     "output_type": "error",
     "traceback": [
      "An exception has occurred, use %tb to see the full traceback.\n",
      "\u001b[0;31mSystemExit\u001b[0m\u001b[0;31m:\u001b[0m 0\n"
     ]
    },
    {
     "name": "stderr",
     "output_type": "stream",
     "text": [
      "/Users/macbookair/opt/anaconda3/envs/pyqt6/lib/python3.10/site-packages/IPython/core/interactiveshell.py:3406: UserWarning: To exit: use 'exit', 'quit', or Ctrl-D.\n",
      "  warn(\"To exit: use 'exit', 'quit', or Ctrl-D.\", stacklevel=1)\n"
     ]
    }
   ],
   "source": [
    "\n",
    "class MainWindow(QWidget):\n",
    "\n",
    "    def __init__(self):\n",
    "        \n",
    "        super().__init__()\n",
    "        self.initializeUI()\n",
    "\n",
    "    def initializeUI(self):\n",
    "\n",
    "        \"\"\"\" Set up the application's GUI \"\"\"\n",
    "\n",
    "        self.setGeometry(100,100,250,150)\n",
    "        self.setWindowTitle(\"QPushButton Example\")\n",
    "\n",
    "        self.setUpMainwindow()\n",
    "        self.show()\n",
    "    \n",
    "\n",
    "    def setUpMainwindow(self):\n",
    "\n",
    "        \"\"\"Create and arrange widgets in the main window.\"\"\"\n",
    "        self.times_pressed = 0\n",
    "\n",
    "        self.name_label = QLabel(\"don't push the button\",self)\n",
    "        \n",
    "        #It is possible to align the contents of widgets that display text. \n",
    "        # To do so, use setAlignment()\n",
    "        \"\"\"\n",
    "        • AlignLeft – Aligns text to the left edge\n",
    "        • AlignRight – Aligns text to the right edge\n",
    "        • AlignHCenter and AlignVCenter – Centers text horizontally and vertically, respectively\n",
    "        • AlignTop and AlignBottom – Aligns text to the top and bottom, respectively\n",
    "        \n",
    "        \"\"\"\n",
    "        self.name_label.setAlignment(Qt.AlignmentFlag.AlignCenter)\n",
    "        self.name_label.move(60,30)\n",
    "\n",
    "        self.button = QPushButton(\"Push Me\",self)\n",
    "        self.button.move(80,70)\n",
    "        self.button.clicked.connect(self.buttonClicked)\n",
    "\n",
    "    def buttonClicked(self):\n",
    "\n",
    "        \"\"\"\n",
    "        Handle when the button is clicked.\n",
    "        \n",
    "        Demonstrates how to change text for widgets,\n",
    "        \n",
    "        update their sizes and locations, and how to\n",
    "        \n",
    "        close the window due to events.\n",
    "        \n",
    "        \"\"\"\n",
    "\n",
    "        self.times_pressed += 1\n",
    "        if self.times_pressed == 1:\n",
    "            self.name_label.setText(\"Why'd you press me?\")\n",
    "        if self.times_pressed == 2:\n",
    "            self.name_label.setText(\"I'm warning you.\")\n",
    "            self.button.setText(\"Feelin' Lucky?\")\n",
    "            self.button.adjustSize()\n",
    "            self.button.move(70, 70)\n",
    "        if self.times_pressed == 3:\n",
    "            print(\"The window has been closed.\")\n",
    "            self.close()\n",
    "\n",
    "\n",
    "if __name__ == \"__main__\":\n",
    "\n",
    "    app = QApplication([])\n",
    "    window = MainWindow()\n",
    "    sys.exit(app.exec())\n",
    "\n"
   ]
  }
 ],
 "metadata": {
  "kernelspec": {
   "display_name": "Python 3.10.4 ('pyqt6')",
   "language": "python",
   "name": "python3"
  },
  "language_info": {
   "codemirror_mode": {
    "name": "ipython",
    "version": 3
   },
   "file_extension": ".py",
   "mimetype": "text/x-python",
   "name": "python",
   "nbconvert_exporter": "python",
   "pygments_lexer": "ipython3",
   "version": "3.10.4"
  },
  "orig_nbformat": 4,
  "vscode": {
   "interpreter": {
    "hash": "a124bb1da070313ffb52e2a22682341b7f0bd8485dff237a1f49f68cce3ddb1a"
   }
  }
 },
 "nbformat": 4,
 "nbformat_minor": 2
}
