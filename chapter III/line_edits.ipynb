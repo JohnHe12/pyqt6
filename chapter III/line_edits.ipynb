{
 "cells": [
  {
   "cell_type": "code",
   "execution_count": 1,
   "metadata": {},
   "outputs": [],
   "source": [
    "import imp\n",
    "import sys \n",
    "from PyQt6.QtWidgets import QApplication, QLabel,QWidget,QLineEdit,QPushButton\n",
    "from PyQt6.QtCore import Qt"
   ]
  },
  {
   "cell_type": "code",
   "execution_count": 2,
   "metadata": {},
   "outputs": [
    {
     "name": "stdout",
     "output_type": "stream",
     "text": [
      "\n"
     ]
    },
    {
     "ename": "SystemExit",
     "evalue": "0",
     "output_type": "error",
     "traceback": [
      "An exception has occurred, use %tb to see the full traceback.\n",
      "\u001b[0;31mSystemExit\u001b[0m\u001b[0;31m:\u001b[0m 0\n"
     ]
    },
    {
     "name": "stderr",
     "output_type": "stream",
     "text": [
      "/Users/macbookair/opt/anaconda3/envs/pyqt6/lib/python3.10/site-packages/IPython/core/interactiveshell.py:3406: UserWarning: To exit: use 'exit', 'quit', or Ctrl-D.\n",
      "  warn(\"To exit: use 'exit', 'quit', or Ctrl-D.\", stacklevel=1)\n"
     ]
    }
   ],
   "source": [
    "class MainWindow(QWidget):\n",
    "\n",
    "    def __init__(self):\n",
    "        super().__init__()\n",
    "        self.initlizeUI()\n",
    "\n",
    "    def initlizeUI(self):\n",
    "\n",
    "        self.setMaximumSize(310,310)\n",
    "        self.setWindowTitle(\"QLineEidit Example\")\n",
    "\n",
    "        self.setUpMainWindow()\n",
    "        self.show()\n",
    "\n",
    "    def setUpMainWindow(self):\n",
    "\n",
    "        \"\"\"Create and arrange widgets in the main window.\"\"\"\n",
    "        QLabel(\"Please enter your name below.\",\n",
    "               self).move(70, 10)\n",
    "        name_label = QLabel(\"Name:\", self)\n",
    "        name_label.move(20, 50)\n",
    "\n",
    "        self.name_edit = QLineEdit(self)\n",
    "        self.name_edit.resize(210, 20)\n",
    "        self.name_edit.move(70, 50)\n",
    "\n",
    "        clear_button = QPushButton(\"Clear\", self)\n",
    "        clear_button.move(140, 90)\n",
    "        clear_button.clicked.connect(self.clearText)\n",
    "\n",
    "        accept_button = QPushButton(\"OK\", self)\n",
    "        accept_button.move(210, 90)\n",
    "        accept_button.clicked.connect(self.acceptText)\n",
    "\n",
    "    def clearText(self):\n",
    "        \n",
    "        \"\"\"Clear the QLineEdit input field.\"\"\"\n",
    "        self.name_edit.clear()\n",
    "\n",
    "    def acceptText(self):\n",
    "\n",
    "        \"\"\"Accept the user's input in the QLineEdit\n",
    "        widget and close the program.\"\"\"\n",
    "        \n",
    "        print(self.name_edit.text())\n",
    "        self.close()\n",
    "\n",
    "if __name__ == \"__main__\":\n",
    "\n",
    "    app = QApplication([])\n",
    "    window = MainWindow()\n",
    "    sys.exit(app.exec())"
   ]
  },
  {
   "cell_type": "markdown",
   "metadata": {},
   "source": [
    "Previous examples have used **setGeometry()** for setting the location and size of a window on the screen. One thing you can do is restrict the size of the window. Here, let’s use the QWidget method **setMaximumSize()** and pass the maximum width and height for MainWindow. Some other methods for setting window sizes include the following:\n",
    "\n",
    "* setMinimumSize() – Sets the widget’s minimum size\n",
    "\n",
    "* setMinimumHeight() and setMinimumWidth() – Sets the widget’s\n",
    "  minimum height and width, respectively\n",
    "\n",
    "* setMaximumHeight() and setMaximumWidth() – Sets the widget’s maximum height and width, respectively\n",
    "\n",
    "* setFixedSize() – Sets the maximum and minimum sizes for the widget, preventing it from changing sizes\n",
    "\n",
    "**Tip** these methods are useful for not only setting the size constraints of windows\n",
    "but for widget objects as well, since they all inherit QWidget."
   ]
  }
 ],
 "metadata": {
  "kernelspec": {
   "display_name": "Python 3.10.4 ('pyqt6')",
   "language": "python",
   "name": "python3"
  },
  "language_info": {
   "codemirror_mode": {
    "name": "ipython",
    "version": 3
   },
   "file_extension": ".py",
   "mimetype": "text/x-python",
   "name": "python",
   "nbconvert_exporter": "python",
   "pygments_lexer": "ipython3",
   "version": "3.10.4"
  },
  "orig_nbformat": 4,
  "vscode": {
   "interpreter": {
    "hash": "a124bb1da070313ffb52e2a22682341b7f0bd8485dff237a1f49f68cce3ddb1a"
   }
  }
 },
 "nbformat": 4,
 "nbformat_minor": 2
}
