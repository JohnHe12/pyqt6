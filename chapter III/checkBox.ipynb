{
 "cells": [
  {
   "cell_type": "code",
   "execution_count": 1,
   "metadata": {},
   "outputs": [
    {
     "ename": "SystemExit",
     "evalue": "0",
     "output_type": "error",
     "traceback": [
      "An exception has occurred, use %tb to see the full traceback.\n",
      "\u001b[0;31mSystemExit\u001b[0m\u001b[0;31m:\u001b[0m 0\n"
     ]
    },
    {
     "name": "stderr",
     "output_type": "stream",
     "text": [
      "/Users/macbookair/opt/anaconda3/envs/pyqt6/lib/python3.10/site-packages/IPython/core/interactiveshell.py:3406: UserWarning: To exit: use 'exit', 'quit', or Ctrl-D.\n",
      "  warn(\"To exit: use 'exit', 'quit', or Ctrl-D.\", stacklevel=1)\n"
     ]
    }
   ],
   "source": [
    "# checkboxes.py\n",
    "# Import necessary modules\n",
    "import sys\n",
    "from PyQt6.QtWidgets import (QApplication, QWidget, QCheckBox,\n",
    "    QLabel)\n",
    "from PyQt6.QtCore import Qt\n",
    "\n",
    "class MainWindow(QWidget):\n",
    "    def __init__(self):\n",
    "        super().__init__()\n",
    "        self.initializeUI()\n",
    "    \n",
    "    def initializeUI(self):\n",
    "        \n",
    "        \"\"\"Set up the application's GUI.\"\"\"\n",
    "        self.setGeometry(100, 100, 250, 150)\n",
    "        self.setWindowTitle(\"QCheckBox Example\")\n",
    "        self.setUpMainWindow()\n",
    "        self.show()\n",
    "    \n",
    "    def setUpMainWindow(self):\n",
    "        \"\"\"Create and arrange widgets in the main window.\"\"\"\n",
    "        \n",
    "        header_label = QLabel(\"Which shifts can you work? \\\n",
    "                        (Please check all that apply)\", self)\n",
    "        header_label.setWordWrap(True)\n",
    "        header_label.move(20, 10)\n",
    "\n",
    "        # Set up the checkboxes\n",
    "        morning_cb = QCheckBox(\"Morning [8 AM-2 PM]\", self)\n",
    "        morning_cb.move(40, 60)\n",
    "        #morning_cb.toggle() # Uncomment to start checked\n",
    "        morning_cb.toggled.connect(self.printSelected)\n",
    "\n",
    "        after_cb = QCheckBox(\"Afternoon [1 PM-8 PM]\", self)\n",
    "        after_cb.move(40, 80)\n",
    "        after_cb.toggled.connect(self.printSelected)\n",
    "\n",
    "        night_cb = QCheckBox(\"Night [7 PM-3 AM]\", self)\n",
    "        night_cb.move(40, 100)\n",
    "        night_cb.toggled.connect(self.printSelected)\n",
    "        #The toggled() signal also passes along additional information, checked, \n",
    "        # which returns True if the checkbox is selected. Otherwise, it returns False.\n",
    "    \n",
    "    def printSelected(self, checked):\n",
    "        \n",
    "        \"\"\"\n",
    "        Print the text of a QCheckBox object when selected\n",
    "        or deselected. Use sender() to determine which widget\n",
    "        is sending the signal.\n",
    "        \"\"\"\n",
    "        ## the QObject method sender() returns which object (the widget) is sending the signal. \n",
    "        # (All widgets inherit the QObject class.)\n",
    "        \n",
    "        sender = self.sender()\n",
    "        \n",
    "        if checked:\n",
    "            print(f\"{sender.text()} Selected.\")\n",
    "        else:\n",
    "            print(f\"{sender.text()} Deselected.\")\n",
    "\n",
    "\n",
    "\n",
    "if __name__ == '__main__':\n",
    "    app = QApplication(sys.argv)\n",
    "    window = MainWindow()\n",
    "    sys.exit(app.exec())"
   ]
  },
  {
   "cell_type": "markdown",
   "metadata": {},
   "source": [
    "The QCheckBox method **toggle()** can be used to toggle the checkbox on or off. \n",
    "When a checkbox is selected, rather than using the clicked signal like with QPushButton, \n",
    "use toggled to emit a signal that is connected to the slot printSelected()"
   ]
  }
 ],
 "metadata": {
  "kernelspec": {
   "display_name": "Python 3.10.4 ('pyqt6')",
   "language": "python",
   "name": "python3"
  },
  "language_info": {
   "codemirror_mode": {
    "name": "ipython",
    "version": 3
   },
   "file_extension": ".py",
   "mimetype": "text/x-python",
   "name": "python",
   "nbconvert_exporter": "python",
   "pygments_lexer": "ipython3",
   "version": "3.10.4"
  },
  "orig_nbformat": 4,
  "vscode": {
   "interpreter": {
    "hash": "a124bb1da070313ffb52e2a22682341b7f0bd8485dff237a1f49f68cce3ddb1a"
   }
  }
 },
 "nbformat": 4,
 "nbformat_minor": 2
}
