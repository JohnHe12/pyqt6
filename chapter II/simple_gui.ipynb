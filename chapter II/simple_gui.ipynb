{
 "cells": [
  {
   "cell_type": "code",
   "execution_count": 1,
   "metadata": {},
   "outputs": [
    {
     "ename": "SystemExit",
     "evalue": "0",
     "output_type": "error",
     "traceback": [
      "An exception has occurred, use %tb to see the full traceback.\n",
      "\u001b[0;31mSystemExit\u001b[0m\u001b[0;31m:\u001b[0m 0\n"
     ]
    },
    {
     "name": "stderr",
     "output_type": "stream",
     "text": [
      "/Users/macbookair/opt/anaconda3/envs/pyqt6/lib/python3.10/site-packages/IPython/core/interactiveshell.py:3406: UserWarning: To exit: use 'exit', 'quit', or Ctrl-D.\n",
      "  warn(\"To exit: use 'exit', 'quit', or Ctrl-D.\", stacklevel=1)\n"
     ]
    }
   ],
   "source": [
    "import sys\n",
    "from PyQt6.QtWidgets import QApplication, QWidget\n",
    "\n",
    "class EmptyWindow(QWidget):\n",
    "\n",
    "    def __init__(self):\n",
    "        \"\"\" Constructor for Empty Window Class \"\"\"\n",
    "        super().__init__()\n",
    "        self.initializeUI()\n",
    "\n",
    "    def initializeUI(self):\n",
    "        \"\"\"Set up the application.\"\"\"\n",
    "\n",
    "        self.setGeometry(500,500,400,300)\n",
    "        self.setWindowTitle(\"Empty Window in PyQt\")\n",
    "        self.show() # Display the window on the screen\n",
    "\n",
    "\n",
    "\n",
    "# Run the program\n",
    "if __name__ == '__main__':\n",
    "    app = QApplication(sys.argv)\n",
    "    window = EmptyWindow()\n",
    "    sys.exit(app.exec())"
   ]
  },
  {
   "cell_type": "code",
   "execution_count": 1,
   "metadata": {},
   "outputs": [
    {
     "ename": "SystemExit",
     "evalue": "0",
     "output_type": "error",
     "traceback": [
      "An exception has occurred, use %tb to see the full traceback.\n",
      "\u001b[0;31mSystemExit\u001b[0m\u001b[0;31m:\u001b[0m 0\n"
     ]
    },
    {
     "name": "stderr",
     "output_type": "stream",
     "text": [
      "/Users/macbookair/opt/anaconda3/envs/pyqt6/lib/python3.10/site-packages/IPython/core/interactiveshell.py:3406: UserWarning: To exit: use 'exit', 'quit', or Ctrl-D.\n",
      "  warn(\"To exit: use 'exit', 'quit', or Ctrl-D.\", stacklevel=1)\n"
     ]
    }
   ],
   "source": [
    "# labels.py\n",
    "# Import necessary modules\n",
    "import sys\n",
    "from PyQt6.QtWidgets import QApplication, QWidget, QLabel\n",
    "from PyQt6.QtGui import QPixmap\n",
    "class MainWindow(QWidget):\n",
    "    def __init__(self):\n",
    "        super().__init__()\n",
    "        self.initializeUI()\n",
    "    def initializeUI(self):\n",
    "        \"\"\"Set up the application's GUI.\"\"\"\n",
    "        self.setGeometry(100, 100, 250, 250)\n",
    "        self.setWindowTitle(\"QLabel Example\")\n",
    "        self.setUpMainWindow()\n",
    "        self.show()\n",
    "    \n",
    "    def setUpMainWindow(self):\n",
    "        \"\"\"Create QLabel to be displayed in the main window.\"\"\"\n",
    "\n",
    "        hello_label = QLabel(self)\n",
    "        hello_label.setText(\"Hello\")\n",
    "        hello_label.move(105, 15)\n",
    "        image = \"/Users/macbookair/Desktop/编程/pyqt6/chapter II/student_card.jpeg\"\n",
    "        try:\n",
    "            with open(image):\n",
    "                world_label = QLabel(self)\n",
    "                pixmap = QPixmap(image)\n",
    "                world_label.setPixmap(pixmap)\n",
    "                world_label.move(25, 40)\n",
    "        except FileNotFoundError as error:\n",
    "            print(f\"Image not found.\\nError: {error}\")\n",
    "\n",
    "if __name__ == '__main__':\n",
    "    app = QApplication(sys.argv)\n",
    "    window = MainWindow()\n",
    "    sys.exit(app.exec())\n"
   ]
  },
  {
   "cell_type": "markdown",
   "metadata": {},
   "source": [
    "First, you must create a QLabel object. \n",
    "By passing self as a parameter to QLabel, \n",
    "you set the MainWindow class as the parent of the label.\n",
    " This will be helpful for displaying and arranging the widget in the parent object"
   ]
  },
  {
   "cell_type": "code",
   "execution_count": 1,
   "metadata": {},
   "outputs": [
    {
     "name": "stdout",
     "output_type": "stream",
     "text": [
      "140240764226144\n",
      "140240764226576\n"
     ]
    },
    {
     "ename": "SystemExit",
     "evalue": "0",
     "output_type": "error",
     "traceback": [
      "An exception has occurred, use %tb to see the full traceback.\n",
      "\u001b[0;31mSystemExit\u001b[0m\u001b[0;31m:\u001b[0m 0\n"
     ]
    },
    {
     "name": "stderr",
     "output_type": "stream",
     "text": [
      "/Users/macbookair/opt/anaconda3/envs/pyqt6/lib/python3.10/site-packages/IPython/core/interactiveshell.py:3406: UserWarning: To exit: use 'exit', 'quit', or Ctrl-D.\n",
      "  warn(\"To exit: use 'exit', 'quit', or Ctrl-D.\", stacklevel=1)\n"
     ]
    }
   ],
   "source": [
    "# user_profile.py\n",
    "# Import necessary modules\n",
    "import sys\n",
    "from PyQt6.QtWidgets import QApplication, QWidget, QLabel\n",
    "from PyQt6.QtGui import QFont, QPixmap\n",
    "\n",
    "class MainWindow(QWidget):\n",
    "    def __init__(self):\n",
    "        super().__init__()\n",
    "        self.initializeUI()\n",
    "\n",
    "    def initializeUI(self):\n",
    "            \"\"\"Set up the application's GUI.\"\"\"\n",
    "            self.setGeometry(50, 50, 250, 400)\n",
    "            self.setWindowTitle(\"2.1 - User Profile GUI\")\n",
    "            self.setUpMainWindow()\n",
    "            self.show()\n",
    "    # user_profile.py\n",
    "    def createImageLabels(self):\n",
    "        \"\"\"Open image files and create image labels.\"\"\"\n",
    "        images = [\"images/skyblue.png\",\n",
    "                    \"images/profile_image.png\"]\n",
    "        for image in images:\n",
    "            try:\n",
    "                with open(image):\n",
    "                    label = QLabel(self)\n",
    "                    pixmap = QPixmap(image)\n",
    "                    label.setPixmap(pixmap)\n",
    "\n",
    "                    if image == \"images/profile_image.png\":\n",
    "                        label.move(80, 20)\n",
    "                    print(id(label))\n",
    "            except FileNotFoundError as error:\n",
    "                print(f\"Image not found.\\nError: {error}\")\n",
    "\n",
    "# user_profile.py\n",
    "    def setUpMainWindow(self):\n",
    "        \"\"\"Create the labels to be displayed in the window.\"\"\"\n",
    "        self.createImageLabels()\n",
    "        user_label = QLabel(self)\n",
    "        user_label.setText(\"John Doe\")\n",
    "        user_label.setFont(QFont(\"Arial\", 20))\n",
    "        user_label.move(85, 140)\n",
    "\n",
    "        bio_label = QLabel(self)\n",
    "        bio_label.setText(\"Biography\")\n",
    "        bio_label.setFont(QFont(\"Arial\", 17))\n",
    "        bio_label.move(15, 170)\n",
    "\n",
    "        about_label = QLabel(self)\n",
    "        about_label.setText(\"I'm a Software Engineer with 10 years\\\n",
    "            experience creating awesome code.\")\n",
    "        about_label.setWordWrap(True)\n",
    "        about_label.move(15, 190)\n",
    "\n",
    "        skills_label = QLabel(self)\n",
    "        skills_label.setText(\"Skills\")\n",
    "        skills_label.setFont(QFont(\"Arial\", 17))\n",
    "        skills_label.move(15, 240)\n",
    "\n",
    "        languages_label = QLabel(self)\n",
    "        languages_label.setText(\"Python  |  PHP  |  SQL  |  JavaScript\")\n",
    "        languages_label.move(15, 260)\n",
    "\n",
    "        experience_label = QLabel(self)\n",
    "        experience_label.setText(\"Experience\")\n",
    "        experience_label.setFont(QFont(\"Arial\", 17))\n",
    "        experience_label.move(15, 290)\n",
    "\n",
    "        developer_label = QLabel(self)\n",
    "        developer_label.setText(\"Python Developer\")\n",
    "        developer_label.move(15, 310)\n",
    "\n",
    "        dev_dates_label = QLabel(self)\n",
    "        dev_dates_label.setText(\"Mar 2011 - Present\")\n",
    "        dev_dates_label.setFont(QFont(\"Arial\", 10))\n",
    "        dev_dates_label.move(15, 330)\n",
    "\n",
    "        driver_label = QLabel(self)\n",
    "        driver_label.setText(\"Pizza Delivery Driver\")\n",
    "        driver_label.move(15, 350)\n",
    "        \n",
    "        driver_dates_label = QLabel(self)\n",
    "        driver_dates_label.setText(\"Aug 2015 - Dec 2017\")\n",
    "        driver_dates_label.setFont(QFont(\"Arial\", 10))\n",
    "        driver_dates_label.move(15, 370)\n",
    "# Run program\n",
    "if __name__ == '__main__':\n",
    "    app = QApplication(sys.argv)\n",
    "    window = MainWindow()\n",
    "    sys.exit(app.exec())"
   ]
  },
  {
   "cell_type": "markdown",
   "metadata": {},
   "source": [
    " the QFont class from the QtGui module, which allows for us to modify the size and types of fonts in our application. This is perfect for creating the different header sizes."
   ]
  }
 ],
 "metadata": {
  "kernelspec": {
   "display_name": "Python 3.10.4 ('pyqt6')",
   "language": "python",
   "name": "python3"
  },
  "language_info": {
   "codemirror_mode": {
    "name": "ipython",
    "version": 3
   },
   "file_extension": ".py",
   "mimetype": "text/x-python",
   "name": "python",
   "nbconvert_exporter": "python",
   "pygments_lexer": "ipython3",
   "version": "3.10.4"
  },
  "orig_nbformat": 4,
  "vscode": {
   "interpreter": {
    "hash": "a124bb1da070313ffb52e2a22682341b7f0bd8485dff237a1f49f68cce3ddb1a"
   }
  }
 },
 "nbformat": 4,
 "nbformat_minor": 2
}
