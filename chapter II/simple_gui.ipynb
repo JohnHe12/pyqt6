{
 "cells": [
  {
   "cell_type": "code",
   "execution_count": 1,
   "metadata": {},
   "outputs": [
    {
     "ename": "SystemExit",
     "evalue": "0",
     "output_type": "error",
     "traceback": [
      "An exception has occurred, use %tb to see the full traceback.\n",
      "\u001b[0;31mSystemExit\u001b[0m\u001b[0;31m:\u001b[0m 0\n"
     ]
    },
    {
     "name": "stderr",
     "output_type": "stream",
     "text": [
      "/Users/macbookair/opt/anaconda3/envs/pyqt6/lib/python3.10/site-packages/IPython/core/interactiveshell.py:3406: UserWarning: To exit: use 'exit', 'quit', or Ctrl-D.\n",
      "  warn(\"To exit: use 'exit', 'quit', or Ctrl-D.\", stacklevel=1)\n"
     ]
    }
   ],
   "source": [
    "import sys\n",
    "from PyQt6.QtWidgets import QApplication, QWidget\n",
    "\n",
    "class EmptyWindow(QWidget):\n",
    "\n",
    "    def __init__(self):\n",
    "        \"\"\" Constructor for Empty Window Class \"\"\"\n",
    "        super().__init__()\n",
    "        self.initializeUI()\n",
    "\n",
    "    def initializeUI(self):\n",
    "        \"\"\"Set up the application.\"\"\"\n",
    "\n",
    "        self.setGeometry(500,500,400,300)\n",
    "        self.setWindowTitle(\"Empty Window in PyQt\")\n",
    "        self.show() # Display the window on the screen\n",
    "\n",
    "\n",
    "\n",
    "# Run the program\n",
    "if __name__ == '__main__':\n",
    "    app = QApplication(sys.argv)\n",
    "    window = EmptyWindow()\n",
    "    sys.exit(app.exec())"
   ]
  },
  {
   "cell_type": "code",
   "execution_count": 3,
   "metadata": {},
   "outputs": [
    {
     "name": "stdout",
     "output_type": "stream",
     "text": [
      "Image not found.\n",
      "Error: [Errno 2] No such file or directory: 'images/world.png'\n"
     ]
    },
    {
     "ename": "SystemExit",
     "evalue": "0",
     "output_type": "error",
     "traceback": [
      "An exception has occurred, use %tb to see the full traceback.\n",
      "\u001b[0;31mSystemExit\u001b[0m\u001b[0;31m:\u001b[0m 0\n"
     ]
    }
   ],
   "source": [
    "# labels.py\n",
    "# Import necessary modules\n",
    "import sys\n",
    "from PyQt6.QtWidgets import QApplication, QWidget, QLabel\n",
    "from PyQt6.QtGui import QPixmap\n",
    "class MainWindow(QWidget):\n",
    "    def __init__(self):\n",
    "        super().__init__()\n",
    "        self.initializeUI()\n",
    "    def initializeUI(self):\n",
    "        \"\"\"Set up the application's GUI.\"\"\"\n",
    "        self.setGeometry(100, 100, 250, 250)\n",
    "        self.setWindowTitle(\"QLabel Example\")\n",
    "        self.setUpMainWindow()\n",
    "        self.show()\n",
    "    \n",
    "    def setUpMainWindow(self):\n",
    "        \"\"\"Create QLabel to be displayed in the main window.\"\"\"\n",
    "\n",
    "        hello_label = QLabel(self)\n",
    "        hello_label.setText(\"Hello\")\n",
    "        hello_label.move(105, 15)\n",
    "        image = \"images/world.png\"\n",
    "        try:\n",
    "            with open(image):\n",
    "                world_label = QLabel(self)\n",
    "                pixmap = QPixmap(image)\n",
    "                world_label.setPixmap(pixmap)\n",
    "                world_label.move(25, 40)\n",
    "        except FileNotFoundError as error:\n",
    "            print(f\"Image not found.\\nError: {error}\")\n",
    "\n",
    "if __name__ == '__main__':\n",
    "    app = QApplication(sys.argv)\n",
    "    window = MainWindow()\n",
    "    sys.exit(app.exec())\n"
   ]
  },
  {
   "cell_type": "markdown",
   "metadata": {},
   "source": [
    "First, you must create a QLabel object. \n",
    "By passing self as a parameter to QLabel, \n",
    "you set the MainWindow class as the parent of the label.\n",
    " This will be helpful for displaying and arranging the widget in the parent object"
   ]
  }
 ],
 "metadata": {
  "kernelspec": {
   "display_name": "Python 3.10.4 ('pyqt6')",
   "language": "python",
   "name": "python3"
  },
  "language_info": {
   "codemirror_mode": {
    "name": "ipython",
    "version": 3
   },
   "file_extension": ".py",
   "mimetype": "text/x-python",
   "name": "python",
   "nbconvert_exporter": "python",
   "pygments_lexer": "ipython3",
   "version": "3.10.4"
  },
  "orig_nbformat": 4,
  "vscode": {
   "interpreter": {
    "hash": "a124bb1da070313ffb52e2a22682341b7f0bd8485dff237a1f49f68cce3ddb1a"
   }
  }
 },
 "nbformat": 4,
 "nbformat_minor": 2
}
